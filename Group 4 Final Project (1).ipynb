{
 "cells": [
  {
   "cell_type": "markdown",
   "id": "fe206b11-0935-4995-ad2f-5a2c47d8447a",
   "metadata": {},
   "source": [
    "Introduction\n",
    "\n",
    "Our study aims to explore the identification of gender in patients with heart disease, recognizing the biological differences between male and female patients that could affect the normal ranges of various predictors. Utilizing the K-nearest neighbors classification method, we intend to predict a patient's gender based on a subset of variables from the heart disease dataset. These variables include disease classification, cholesterol levels, resting electrocardiogram (ECG) results, and maximum heart rate achieved. While the heart disease dataset encompasses a broad range of variables, our analysis will focus exclusively on these selected predictors. There will also be 303 instances of data to be used for both training and testing our data\n",
    "\n",
    "Citation: Janosi,Andras, Steinbrunn,William, Pfisterer,Matthias, and Detrano,Robert. (1988). Heart Disease. UCI Machine Learning Repository. https://doi.org/10.24432/C52P4X."
   ]
  },
  {
   "cell_type": "markdown",
   "id": "8abd865e-beb1-4a8f-b8f6-9b4cd9a1a52d",
   "metadata": {},
   "source": [
    "Methods"
   ]
  },
  {
   "cell_type": "code",
   "execution_count": 1,
   "id": "f41ac95c-4ddd-49cb-b8cd-91a3adb8a793",
   "metadata": {},
   "outputs": [
    {
     "name": "stderr",
     "output_type": "stream",
     "text": [
      "Warning message:\n",
      "“package ‘ggplot2’ was built under R version 4.3.2”\n",
      "── \u001b[1mAttaching core tidyverse packages\u001b[22m ──────────────────────── tidyverse 2.0.0 ──\n",
      "\u001b[32m✔\u001b[39m \u001b[34mdplyr    \u001b[39m 1.1.3     \u001b[32m✔\u001b[39m \u001b[34mreadr    \u001b[39m 2.1.4\n",
      "\u001b[32m✔\u001b[39m \u001b[34mforcats  \u001b[39m 1.0.0     \u001b[32m✔\u001b[39m \u001b[34mstringr  \u001b[39m 1.5.0\n",
      "\u001b[32m✔\u001b[39m \u001b[34mggplot2  \u001b[39m 3.5.0     \u001b[32m✔\u001b[39m \u001b[34mtibble   \u001b[39m 3.2.1\n",
      "\u001b[32m✔\u001b[39m \u001b[34mlubridate\u001b[39m 1.9.2     \u001b[32m✔\u001b[39m \u001b[34mtidyr    \u001b[39m 1.3.0\n",
      "\u001b[32m✔\u001b[39m \u001b[34mpurrr    \u001b[39m 1.0.2     \n",
      "── \u001b[1mConflicts\u001b[22m ────────────────────────────────────────── tidyverse_conflicts() ──\n",
      "\u001b[31m✖\u001b[39m \u001b[34mdplyr\u001b[39m::\u001b[32mfilter()\u001b[39m masks \u001b[34mstats\u001b[39m::filter()\n",
      "\u001b[31m✖\u001b[39m \u001b[34mdplyr\u001b[39m::\u001b[32mlag()\u001b[39m    masks \u001b[34mstats\u001b[39m::lag()\n",
      "\u001b[36mℹ\u001b[39m Use the conflicted package (\u001b[3m\u001b[34m<http://conflicted.r-lib.org/>\u001b[39m\u001b[23m) to force all conflicts to become errors\n",
      "\n",
      "Attaching package: ‘rvest’\n",
      "\n",
      "\n",
      "The following object is masked from ‘package:readr’:\n",
      "\n",
      "    guess_encoding\n",
      "\n",
      "\n",
      "── \u001b[1mAttaching packages\u001b[22m ────────────────────────────────────── tidymodels 1.1.1 ──\n",
      "\n",
      "\u001b[32m✔\u001b[39m \u001b[34mbroom       \u001b[39m 1.0.5     \u001b[32m✔\u001b[39m \u001b[34mrsample     \u001b[39m 1.2.0\n",
      "\u001b[32m✔\u001b[39m \u001b[34mdials       \u001b[39m 1.2.0     \u001b[32m✔\u001b[39m \u001b[34mtune        \u001b[39m 1.1.2\n",
      "\u001b[32m✔\u001b[39m \u001b[34minfer       \u001b[39m 1.0.5     \u001b[32m✔\u001b[39m \u001b[34mworkflows   \u001b[39m 1.1.3\n",
      "\u001b[32m✔\u001b[39m \u001b[34mmodeldata   \u001b[39m 1.2.0     \u001b[32m✔\u001b[39m \u001b[34mworkflowsets\u001b[39m 1.0.1\n",
      "\u001b[32m✔\u001b[39m \u001b[34mparsnip     \u001b[39m 1.1.1     \u001b[32m✔\u001b[39m \u001b[34myardstick   \u001b[39m 1.2.0\n",
      "\u001b[32m✔\u001b[39m \u001b[34mrecipes     \u001b[39m 1.0.8     \n",
      "\n",
      "── \u001b[1mConflicts\u001b[22m ───────────────────────────────────────── tidymodels_conflicts() ──\n",
      "\u001b[31m✖\u001b[39m \u001b[34mscales\u001b[39m::\u001b[32mdiscard()\u001b[39m masks \u001b[34mpurrr\u001b[39m::discard()\n",
      "\u001b[31m✖\u001b[39m \u001b[34mdplyr\u001b[39m::\u001b[32mfilter()\u001b[39m   masks \u001b[34mstats\u001b[39m::filter()\n",
      "\u001b[31m✖\u001b[39m \u001b[34mrecipes\u001b[39m::\u001b[32mfixed()\u001b[39m  masks \u001b[34mstringr\u001b[39m::fixed()\n",
      "\u001b[31m✖\u001b[39m \u001b[34mdplyr\u001b[39m::\u001b[32mlag()\u001b[39m      masks \u001b[34mstats\u001b[39m::lag()\n",
      "\u001b[31m✖\u001b[39m \u001b[34myardstick\u001b[39m::\u001b[32mspec()\u001b[39m masks \u001b[34mreadr\u001b[39m::spec()\n",
      "\u001b[31m✖\u001b[39m \u001b[34mrecipes\u001b[39m::\u001b[32mstep()\u001b[39m   masks \u001b[34mstats\u001b[39m::step()\n",
      "\u001b[34m•\u001b[39m Learn how to get started at \u001b[32mhttps://www.tidymodels.org/start/\u001b[39m\n",
      "\n"
     ]
    }
   ],
   "source": [
    "library(repr)\n",
    "library(tidyverse)\n",
    "library(rvest)\n",
    "library(tidymodels)\n",
    "options(repr.matrix.max.rows = 6)"
   ]
  },
  {
   "cell_type": "code",
   "execution_count": null,
   "id": "ca1f459a-68c7-414b-81af-aef1087d1ea3",
   "metadata": {},
   "outputs": [],
   "source": [
    "url <- \"https://raw.githubusercontent.com/victoriachoi7/group-4-dsci/main/processed.cleveland.data\"\n",
    "cleveland_data <- read_csv(url, col_names = FALSE)\n",
    "colnames(cleveland_data) <- c(\"age\", \"sex\", \"chest_pain_type\", \"resting_bp\", \"chol\", \"fbs\", \"restecg\", \"thalach\", \"exang\", \"oldpeak\", \"slope\", \"ca\", \"thal\", \"num\")\n",
    "\n",
    "cleveland_data"
   ]
  },
  {
   "cell_type": "markdown",
   "id": "0c65b811-234a-4f00-bea7-935850650ba2",
   "metadata": {},
   "source": [
    "From this table, we need to isolate the variables we are interested in. These columns include sex, disease classification (num), cholesterol levels (chol), resting electrocardiogram (ECG) results (rest_ecg), and maximum heart rate achieved (thalach). This is also known as the wrangling process. We mutated the sex variable to tell us female or male for clarity."
   ]
  },
  {
   "cell_type": "code",
   "execution_count": null,
   "id": "d6f8c5b4-e4e5-4668-87d4-f4248240fff6",
   "metadata": {},
   "outputs": [],
   "source": [
    "cleveland_wrangled <-cleveland_data|>\n",
    "            select(\"sex\", \"num\", \"chol\", \"restecg\", \"thalach\")|>\n",
    "            mutate(sex = as_factor(sex)) |>\n",
    "            mutate(sex = fct_recode(sex, \"female\" = \"0\", \"male\" = \"1\"))\n",
    "cleveland_wrangled"
   ]
  },
  {
   "cell_type": "markdown",
   "id": "66c6f8f3-bbf9-4b23-a865-7b857ef365b3",
   "metadata": {},
   "source": [
    "Next, we can also summarize the wrangled data to get a premilinary look at our data distribution and averages. The first part looks at the distribution between female and male data points."
   ]
  },
  {
   "cell_type": "code",
   "execution_count": null,
   "id": "696754d3-a5da-4484-8966-aea9cda75327",
   "metadata": {},
   "outputs": [],
   "source": [
    "num_obs <- nrow(cleveland_wrangled)\n",
    "cleveland_obs <- cleveland_wrangled |>\n",
    "        group_by(sex)|>\n",
    "        summarize(count = n(), percentage = n() / num_obs * 100)\n",
    "cleveland_obs"
   ]
  },
  {
   "cell_type": "markdown",
   "id": "fa560e72-f885-4940-94de-b3e2a0e17746",
   "metadata": {},
   "source": [
    "We see here that the percentage of male oberservations dominate the number of female observations in the data set."
   ]
  },
  {
   "cell_type": "markdown",
   "id": "4bbf9de1-7b81-422c-bbbe-5ab74f05ddde",
   "metadata": {},
   "source": [
    "Secondly, we can find the mean values of each of the variables to get a feel for how the data varies for each sex."
   ]
  },
  {
   "cell_type": "code",
   "execution_count": null,
   "id": "d88607b1-746c-4c2a-bd41-674e3ba246af",
   "metadata": {},
   "outputs": [],
   "source": [
    "cleveland_sum <- cleveland_wrangled |>\n",
    "        group_by(sex)|>\n",
    "        summarize(chol_mean = mean(chol), num_mean = mean(num), restecg_mean = mean(restecg), thalach_mean = mean(thalach))\n",
    "cleveland_sum"
   ]
  },
  {
   "cell_type": "markdown",
   "id": "28e211bd-9ed7-466d-9916-c782981c3222",
   "metadata": {},
   "source": [
    "Through finding the means for each testing variable, we can see what values each variable leans towards for each sex. Though num and restecg usually have integer values, we can see through the means what number most of the respective female and male population leans towards."
   ]
  },
  {
   "cell_type": "markdown",
   "id": "58b3d0aa-df67-4710-8534-f37269671e0a",
   "metadata": {},
   "source": [
    "Finally, using the next step, we can see if there are any missing values that might end up being a problem in our data analysis."
   ]
  },
  {
   "cell_type": "code",
   "execution_count": null,
   "id": "853b18db-e507-4d3f-bd51-da1c95589a63",
   "metadata": {},
   "outputs": [],
   "source": [
    "cleveland_missing <- sum(is.na(cleveland_wrangled))\n",
    "cleveland_missing"
   ]
  },
  {
   "cell_type": "markdown",
   "id": "fb06c6ef-c7f2-42af-b799-53c1f919222f",
   "metadata": {},
   "source": [
    "We can see that there are no missing values detected in our data. Thus, we can go ahead without any extra steps and use the wrangled data for our next steps."
   ]
  },
  {
   "cell_type": "markdown",
   "id": "3b8a5ed4-e20c-4a46-80a3-15d4780beb8f",
   "metadata": {},
   "source": [
    "Our next step will be creating a visualization to additionally summarize the data we plan to analyze. We have six different scatterplots made with the genders highlighted in different colours to see if there are groupings in the data for males and females. Essentially, we are looking at trends that give us hint of how our \"official\" data analysis will go."
   ]
  },
  {
   "cell_type": "code",
   "execution_count": null,
   "id": "9fdcb891-8bbd-44d0-90ad-59aea45d69f9",
   "metadata": {},
   "outputs": [],
   "source": [
    "options(repr.plot.width = 6, repr.plot.height = 6)\n",
    "cleveland_viz_1 <- cleveland_wrangled|>\n",
    "        ggplot(aes(x = chol, y = thalach, colour = sex)) +\n",
    "            geom_point()+\n",
    "            labs(x = \"Cholesterol (mg/dl)\",\n",
    "                 y = \"Maximum Heart Rate Achieved (beats/minute)\",\n",
    "                 colour = \"Sex\")+\n",
    "        ggtitle(\"Cholesterol vs Maximum Heart Rate Achieved of Patients\")+\n",
    "        theme(text = element_text(size = 10))\n",
    "cleveland_viz_1\n",
    "\n",
    "# cleveland_viz_2 <- cleveland_wrangled|>\n",
    "#         ggplot(aes(x = chol, y = restecg, colour = sex)) +\n",
    "#             geom_point()+\n",
    "#             labs(x = \"Cholesterol (mg/dl)\",\n",
    "#                  y = \"Resting electrocardiogram (ECG) results\",\n",
    "#                  colour = \"Sex\")+\n",
    "#         ggtitle(\"Cholesterol vs Resting ECG results of Patients\")+\n",
    "#         theme(text = element_text(size = 8))\n",
    "# cleveland_viz_2\n",
    "\n",
    "# cleveland_viz_3 <- cleveland_wrangled|>\n",
    "#         ggplot(aes(x = chol, y = num, colour = sex)) +\n",
    "#             geom_point()+\n",
    "#             labs(x = \"Cholesterol (mg/dl)\",\n",
    "#                  y = \"Heart Disease Diagnosis\",\n",
    "#                  colour = \"Sex\")+\n",
    "#         ggtitle(\"Cholesterol vs Heart Disease of Patients\")+\n",
    "#         theme(text = element_text(size = 8))\n",
    "# cleveland_viz_3\n",
    "\n",
    "# cleveland_viz_4 <- cleveland_wrangled|>\n",
    "#         ggplot(aes(x = restecg, y = thalach, colour = sex)) +\n",
    "#             geom_point()+\n",
    "#             labs(x = \"Resting electrocardiogram (ECG) results\",\n",
    "#                  y = \"Maximum Heart Rate Achieved (beats/minute)\",\n",
    "#                  colour = \"Sex\")+\n",
    "#         ggtitle(\"Resting ECG results vs Maximum Heart Rate Achieved of Patients\")+\n",
    "#         theme(text = element_text(size = 8))\n",
    "# cleveland_viz_4\n",
    "\n",
    "# cleveland_viz_5 <- cleveland_wrangled|>\n",
    "#         ggplot(aes(x = num, y = thalach, colour = sex)) +\n",
    "#             geom_point()+\n",
    "#             labs(x = \"Heart Disease Diagnosis\",\n",
    "#                  y = \"Maximum Heart Rate Achieved (beats/minute)\",\n",
    "#                  colour = \"Sex\")+\n",
    "#         ggtitle(\"Heart Disease vs Maximum Heart Rate Achieved of Patients\")+\n",
    "#         theme(text = element_text(size = 8))\n",
    "# cleveland_viz_5\n",
    "\n",
    "# cleveland_viz_6 <- cleveland_wrangled|>\n",
    "#         ggplot(aes(x = num, y = restecg, colour = sex)) +\n",
    "#             geom_point()+\n",
    "#             labs(x = \"Heart Disease Diagnosis\",\n",
    "#                  y = \"Resting electrocardiogram (ECG) results\",\n",
    "#                  colour = \"Sex\")+\n",
    "#         ggtitle(\"Heart Disease vs Resting ECG results of Patients\")+\n",
    "#         theme(text = element_text(size = 8))\n",
    "# cleveland_viz_6"
   ]
  },
  {
   "cell_type": "markdown",
   "id": "cce54757-6fb6-41d6-a053-4311fc413c0c",
   "metadata": {},
   "source": [
    "The next step to do after wrangling the data is to make a model of the K-nearest neighbors in order to predict the patient's gender. The first step we have to do here is to split the data into training data and testing data in order to be able to train our model while also testing it so that we can have the best possible model. In this case, we are using a seed throughout the process to create a consistent result of randomness."
   ]
  },
  {
   "cell_type": "code",
   "execution_count": null,
   "id": "b349e5f2-7636-438a-a293-34bcfa492480",
   "metadata": {},
   "outputs": [],
   "source": [
    "set.seed(1234) \n",
    "\n",
    "cleveland_split <- initial_split(cleveland_wrangled, prop = 0.75, strata = sex)\n",
    "cleveland_train <- training(cleveland_split)   \n",
    "cleveland_test <- testing(cleveland_split)"
   ]
  },
  {
   "cell_type": "markdown",
   "id": "dc68df27-3a2a-427e-b3da-30776cb33f1c",
   "metadata": {},
   "source": [
    "Next up, we have to create the model using tune() as the neighbors parameter, so that each parameter in the model can be adjusted rather than given a specific value."
   ]
  },
  {
   "cell_type": "code",
   "execution_count": null,
   "id": "77c826ba-508b-4859-a907-550da5a3184b",
   "metadata": {},
   "outputs": [],
   "source": [
    "knn_tune <- nearest_neighbor(weight_func = \"rectangular\", neighbors = tune()) |>\n",
    "      set_engine(\"kknn\") |>\n",
    "      set_mode(\"classification\")\n",
    "\n",
    "knn_recipe <- recipe(sex ~ . , data = cleveland_train) |>\n",
    "   step_scale(all_predictors()) |>\n",
    "   step_center(all_predictors())"
   ]
  },
  {
   "cell_type": "markdown",
   "id": "4a2c83b3-1edd-4201-9fcb-dc0fae809862",
   "metadata": {},
   "source": [
    "Then, we have to make the the plot between the accuracy and the number of neighbors (between n = 1 to 15) so that we can decide which number of neighbors will be optimal in predicting the gender of the patients. We also made a 5 cross-validation folds which helps to validate the stability and performance of a machine learning model. It does so by training the model multiple times on different subsets of the data and testing it on the remaining parts."
   ]
  },
  {
   "cell_type": "code",
   "execution_count": null,
   "id": "28d40038-b184-4ff8-b732-b3fd9ced2ece",
   "metadata": {},
   "outputs": [],
   "source": [
    "set.seed(1234) \n",
    "\n",
    "cleveland_vfold <- vfold_cv(cleveland_train, v = 5, strata = sex)\n",
    "\n",
    "grid_vals <- tibble(neighbors = seq(1, 15))\n",
    "\n",
    "knn_results <- workflow() |>\n",
    "      add_recipe(knn_recipe) |>\n",
    "      add_model(knn_tune) |>\n",
    "      tune_grid(resamples = cleveland_vfold, grid = grid_vals) |>\n",
    "      collect_metrics()\n",
    "\n",
    "accuracies <- knn_results |> \n",
    "  filter(.metric == \"accuracy\")\n",
    "\n",
    "cross_val_plot <- ggplot(accuracies, aes(x = neighbors, y = mean)) + \n",
    "  geom_point() + \n",
    "  geom_line() + \n",
    "  labs(x = \"Number of Neighbors\", y = \"Accuracy\", title = \"Cross-validation Results: kNN Accuracy by Number of Neighbors\")\n",
    "\n",
    "cross_val_plot"
   ]
  },
  {
   "cell_type": "markdown",
   "id": "82b7c3ba-af6a-496d-8a35-aea003e5fde0",
   "metadata": {},
   "source": [
    "As we can see, the average peaked at about 0.73 when N = 13, this shows that the optimal N nearest neighbors for the kNN model is N = 13. Therefore, we are going to make a model with N = 13."
   ]
  },
  {
   "cell_type": "code",
   "execution_count": null,
   "id": "f2a5a12b-d22d-4615-a274-5dcf11da1871",
   "metadata": {},
   "outputs": [],
   "source": [
    "knn_spec <- nearest_neighbor(weight_func = \"rectangular\", neighbors = 13) |>\n",
    "      set_engine(\"kknn\") |>\n",
    "      set_mode(\"classification\")\n",
    "\n",
    "cleveland_fit <- workflow() |>\n",
    "       add_recipe(knn_recipe) |>\n",
    "       add_model(knn_spec) |>\n",
    "       fit(data = cleveland_train)\n",
    "cleveland_fit\n",
    "\n",
    "predictions <- predict(cleveland_fit, cleveland_train) |>\n",
    "  bind_cols(cleveland_train)\n",
    "\n",
    "metrics <- predictions |>\n",
    "  metrics(truth = sex, estimate = .pred_class) |>\n",
    "  filter(.metric == \"accuracy\")\n",
    "metrics"
   ]
  },
  {
   "cell_type": "markdown",
   "id": "f44e174f-6637-47f6-984d-3869a26599ba",
   "metadata": {},
   "source": [
    "Here we can see that the model gives us an accuracy of 0.7389381 which is pretty good to move on to the next stage."
   ]
  },
  {
   "cell_type": "markdown",
   "id": "c711ac9e-570b-4342-bca8-3ea82d650714",
   "metadata": {},
   "source": [
    "Now that we have a K-nearest neighbors classifier object, we can use it to predict the class labels for our test set."
   ]
  },
  {
   "cell_type": "code",
   "execution_count": null,
   "id": "46db695b-a7db-4f15-8ed1-5dbac1fa9176",
   "metadata": {},
   "outputs": [],
   "source": [
    "cleveland_test_predictions <- predict(cleveland_fit, cleveland_test) |>\n",
    "bind_cols(cleveland_test) |>\n",
    "select(.pred_class, sex)\n",
    "\n",
    "cleveland_test_predictions"
   ]
  },
  {
   "cell_type": "markdown",
   "id": "aafec856-49c0-4b58-af9c-004f77ab42ce",
   "metadata": {},
   "source": [
    "After printing out the first few columns of the predictions it made it looks pretty accurate however to understand both how good our predictive model was and how closely correlated gender and the other elements we looked at are we need more.\n",
    "The first and easiest evaluation step is to make a table of how often the podel predicted vs how often it was right. This will allow us to determine if the model was overpredicting a single gender or if it is more balanced."
   ]
  },
  {
   "cell_type": "code",
   "execution_count": null,
   "id": "5a1f10cf-15c6-4b24-836c-47c3525b5c28",
   "metadata": {},
   "outputs": [],
   "source": [
    "cleavland_mat <- cleveland_test_predictions |> \n",
    "       conf_mat(truth = sex, estimate = .pred_class)\n",
    "cleaveland_mat"
   ]
  },
  {
   "cell_type": "markdown",
   "id": "1fe1033d-6cc6-4f50-ae34-9c5053685c9b",
   "metadata": {},
   "source": [
    "Results"
   ]
  },
  {
   "cell_type": "markdown",
   "id": "ac39fa42-1331-4087-8e0e-b8366c175924",
   "metadata": {},
   "source": [
    "Discussion\n",
    "\n",
    "From the results we can see that there is clearly a correlation as the accuracy is around 70 percent however in an article by Tapie et al.(2023) they found that gender only affects some heart health metrics in a meaningful way. This could explain our relatively low accuracy as our predictions assign some weight to statistics that cant realistically be used to determine gender and thus combines bad predictions into our results. With some scaling of the data to reflect its corelation to gender these results could likely be improved however that is outside the scope of our analysis of the topic.\n",
    "\n",
    "Tapia, J., Basalo, M., Enjuanes, C., Calero, E., José, N., Ruíz, M., Calvo, E., Garcimartín, P., Moliner, P., Hidalgo, E., Yun, S., Garay, A., Jiménez-Marrero, S., Pons, A., Corbella, X., & Colet, J. C. (2023). Psychosocial factors partially explain gender differences in health-related quality of life in heart failure patients. ESC heart failure, 10(2), 1090–1102. https://doi.org/10.1002/ehf2.14260\n",
    "\n"
   ]
  },
  {
   "cell_type": "markdown",
   "id": "56c437a8-891d-4288-a307-6a2369e94b90",
   "metadata": {},
   "source": [
    "Conclusion\n",
    "In conclusion we looked at the correlation between various heart metrics and gender in the data from the cleaveland area. We cound that there is some definitive correlation however our models accuracy was ~74 percent which indicates that there is significant room for improvements. Future studies could look at each individual metric seperately and determine if it should or should not be used to preodict geneder or look at different areas. Understanding the correlation between gender and heart metrics would help medical professionals give more personalized care and may even improve healthcare outcomes. Overall a better understanding of the heart and its average values is important and more work needs to be done to help improve the healthcare system."
   ]
  },
  {
   "cell_type": "code",
   "execution_count": null,
   "id": "bb7b9ec6-cc72-423b-9464-4ef0ed287c1c",
   "metadata": {},
   "outputs": [],
   "source": []
  }
 ],
 "metadata": {
  "kernelspec": {
   "display_name": "R",
   "language": "R",
   "name": "ir"
  },
  "language_info": {
   "codemirror_mode": "r",
   "file_extension": ".r",
   "mimetype": "text/x-r-source",
   "name": "R",
   "pygments_lexer": "r",
   "version": "4.3.1"
  }
 },
 "nbformat": 4,
 "nbformat_minor": 5
}
