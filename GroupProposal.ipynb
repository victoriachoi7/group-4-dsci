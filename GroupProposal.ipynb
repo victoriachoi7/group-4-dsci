{
 "cells": [
  {
   "cell_type": "markdown",
   "id": "54c868da-e1d7-47fb-bcda-33292a71b79b",
   "metadata": {},
   "source": [
    "The correlation of heart health and gender: a review of medical datald this lead to?"
   ]
  },
  {
   "cell_type": "markdown",
   "id": "74019d76-7113-45e5-ae3c-4a00488a0651",
   "metadata": {},
   "source": [
    "Introduction:"
   ]
  },
  {
   "cell_type": "markdown",
   "id": "ad160a7a-bc62-4dfb-bb9f-39a82765dcd0",
   "metadata": {},
   "source": [
    "Methods:\n",
    "We will take the data and clean it up before splitting it into two distinct groups with the following columns cholestoral, resting ECG, max heart rate, disease classification and gender. From here we will set up a K nearest neighbor analysis and attempt to predict gender based on the heart condition and the factors listed above. If we find no correlation than we will move on to using the same conditions to attempt to classify the disease. So that we have sufficient material to reflect on and draw conclusions from."
   ]
  },
  {
   "cell_type": "markdown",
   "id": "5d4ff9e3-3904-4024-af1a-42f3b7f9afde",
   "metadata": {},
   "source": [
    "Expected outcomes and significance:\n",
    "We expect to be successful to moderate accuracy in classifying gender based ont he other factors.\n",
    "If it is possible to predict the gender based on these factors it may lead to more personalized treatment ot help manage and prevent these conditions.\n",
    "This could lead to further research to determine safe levels for the factors by gender to help medical professionals give better advice and care."
   ]
  }
 ],
 "metadata": {
  "kernelspec": {
   "display_name": "R",
   "language": "R",
   "name": "ir"
  },
  "language_info": {
   "codemirror_mode": "r",
   "file_extension": ".r",
   "mimetype": "text/x-r-source",
   "name": "R",
   "pygments_lexer": "r",
   "version": "4.3.1"
  }
 },
 "nbformat": 4,
 "nbformat_minor": 5
}
